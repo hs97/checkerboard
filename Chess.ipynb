{
 "cells": [
  {
   "cell_type": "code",
   "execution_count": 1,
   "metadata": {
    "collapsed": true
   },
   "outputs": [],
   "source": [
    "import numpy as np\n",
    "import time\n",
    "import matplotlib.pylab as plt"
   ]
  },
  {
   "cell_type": "code",
   "execution_count": 2,
   "metadata": {
    "collapsed": true
   },
   "outputs": [],
   "source": [
    "def rook(n, num_iter):\n",
    "    start = time.time()\n",
    "    ## Set up board and attacked counter                                                                                                                                                                                                                                                                                      \n",
    "    board = range(n**2)\n",
    "    attacked = 0\n",
    "    safe = [] \n",
    "    for i in range(num_iter):\n",
    "        ## Randomly assign rooks                                                                                                                                                                                                                                                                                              \n",
    "        rooks = np.random.choice(board, n, replace=False)\n",
    "        rows = set([rook / n for rook in rooks])\n",
    "        cols = set([rook % n for rook in rooks])\n",
    "        ## If rooks cover all cols or all rows, there's no place where a king can't be attacked                                                                                                                                                                                                                               \n",
    "        safe_rows = n - len(rows)\n",
    "        safe_cols = n - len(cols)\n",
    "        num_safe = safe_rows * safe_cols ## Num of safe grids is the product of safe rows and columns\n",
    "        safe.append(num_safe)\n",
    "        if num_safe == 0:\n",
    "            attacked += 1\n",
    "    end = time.time()\n",
    "    print(\"Time Elapsed after %d iterations: %.4f\" %(num_iter, end-start))\n",
    "    print(\"With %d rooks, the probability of at least one king being safe is  %.4f\" %(n, float(num_iter - attacked) / num_iter))\n",
    "    return safe"
   ]
  },
  {
   "cell_type": "code",
   "execution_count": 3,
   "metadata": {
    "collapsed": true
   },
   "outputs": [],
   "source": [
    "def summary(arr):\n",
    "    plt.hist(x=arr, bins='auto')\n",
    "    plt.xlabel('Value')\n",
    "    plt.ylabel('Frequency')\n",
    "    plt.title('Safe Grid Distribution')\n",
    "    plt.show()\n",
    "    print(\"Mean is %.4f and Standard Deviation is %.4f\" %(np.mean(arr), np.std(arr)))"
   ]
  },
  {
   "cell_type": "code",
   "execution_count": 4,
   "metadata": {},
   "outputs": [
    {
     "name": "stdout",
     "output_type": "stream",
     "text": [
      "Time Elapsed after 10000 iterations: 0.4698\n",
      "With 10 rooks, the probability of at least one king being safe is  0.9987\n"
     ]
    },
    {
     "data": {
      "image/png": "[encoded data removed]",
      "text/plain": [
       "<Figure size 432x288 with 1 Axes>"
      ]
     },
     "metadata": {},
     "output_type": "display_data"
    },
    {
     "name": "stdout",
     "output_type": "stream",
     "text": [
      "Mean is 10.8073 and Standard Deviation is 4.3449\n"
     ]
    }
   ],
   "source": [
    "summary(rook(10, 10000))"
   ]
  },
  {
   "cell_type": "code",
   "execution_count": 5,
   "metadata": {
    "scrolled": false
   },
   "outputs": [
    {
     "name": "stdout",
     "output_type": "stream",
     "text": [
      "Time Elapsed after 10000 iterations: 2.4706\n",
      "With 50 rooks, the probability of at least one king being safe is  1.0000\n"
     ]
    },
    {
     "data": {
      "image/png": "[encoded data removed]",
      "text/plain": [
       "<Figure size 432x288 with 1 Axes>"
      ]
     },
     "metadata": {},
     "output_type": "display_data"
    },
    {
     "name": "stdout",
     "output_type": "stream",
     "text": [
      "Mean is 324.9618 and Standard Deviation is 55.6341\n"
     ]
    }
   ],
   "source": [
    "summary(rook(50, 10000)) ## Can change parameters here for different configurations. "
   ]
  },
  {
   "cell_type": "code",
   "execution_count": 6,
   "metadata": {},
   "outputs": [
    {
     "name": "stdout",
     "output_type": "stream",
     "text": [
      "Time Elapsed after 10000 iterations: 7.3960\n",
      "With 100 rooks, the probability of at least one king being safe is  1.0000\n"
     ]
    },
    {
     "data": {
      "image/png": "[encoded data removed]",
      "text/plain": [
       "<Figure size 432x288 with 1 Axes>"
      ]
     },
     "metadata": {},
     "output_type": "display_data"
    },
    {
     "name": "stdout",
     "output_type": "stream",
     "text": [
      "Mean is 1325.6870 and Standard Deviation is 159.8008\n"
     ]
    }
   ],
   "source": [
    "summary(rook(100, 10000))"
   ]
  }
 ],
 "metadata": {
  "kernelspec": {
   "display_name": "Python 2",
   "language": "python",
   "name": "python2"
  },
  "language_info": {
   "codemirror_mode": {
    "name": "ipython",
    "version": 2
   },
   "file_extension": ".py",
   "mimetype": "text/x-python",
   "name": "python",
   "nbconvert_exporter": "python",
   "pygments_lexer": "ipython2",
   "version": "2.7.3"
  }
 },
 "nbformat": 4,
 "nbformat_minor": 2
}
